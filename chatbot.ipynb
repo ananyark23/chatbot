{
  "nbformat": 4,
  "nbformat_minor": 0,
  "metadata": {
    "colab": {
      "provenance": [],
      "authorship_tag": "ABX9TyNbmsfuDnIyhEP38MyzL1BX",
      "include_colab_link": true
    },
    "kernelspec": {
      "name": "python3",
      "display_name": "Python 3"
    },
    "language_info": {
      "name": "python"
    }
  },
  "cells": [
    {
      "cell_type": "markdown",
      "metadata": {
        "id": "view-in-github",
        "colab_type": "text"
      },
      "source": [
        "<a href=\"https://colab.research.google.com/github/ananyark23/chatbot/blob/main/chatbot.ipynb\" target=\"_parent\"><img src=\"https://colab.research.google.com/assets/colab-badge.svg\" alt=\"Open In Colab\"/></a>"
      ]
    },
    {
      "cell_type": "code",
      "source": [
        "import nltk\n",
        "from nltk.chat.util import Chat, reflections\n",
        "\n",
        "# Ensure that necessary NLTK datasets are downloaded\n",
        "nltk.download('punkt')\n",
        "\n",
        "# Define the chatbot's responses as a list of patterns and responses\n",
        "pairs = [\n",
        "\n",
        "    (r'hello|hi|hey|good morning|good afternoon|good evening', ['Hello! How can I assist you today?', 'Hi! How may I help you today?', 'Good day! How can I assist you?']),\n",
        "\n",
        "\n",
        "    (r'what is varsh hospital?', ['Varsh Hospital is a state-of-the-art healthcare facility dedicated to providing quality medical services. How can I assist you further?']),\n",
        "\n",
        "\n",
        "    (r'what departments are there in varsh hospital?', ['Varsh Hospital has several departments including Emergency, Cardiology, Neurology, Orthopedics, Pediatrics, Gynecology, and more. Would you like to know about a specific department?']),\n",
        "\n",
        "\n",
        "    (r'where is the emergency department?', ['The Emergency Department is located on the Ground Floor, near the main entrance. If you need immediate help, our team is available 24/7.']),\n",
        "\n",
        "\n",
        "    (r'where is the cardiology department?', ['The Cardiology Department is located on the 2nd Floor, Room 202. You can follow the signs near the elevator.']),\n",
        "\n",
        "\n",
        "    (r'where is the neurology department?', ['The Neurology Department is on the 3rd Floor, Room 301. It is next to the Radiology Department.']),\n",
        "\n",
        "\n",
        "    (r'where is the orthopedics department?', ['The Orthopedics Department is located on the 4th Floor, Room 401. It is near the Rehabilitation Unit.']),\n",
        "\n",
        "\n",
        "    (r'where is the pediatrics department?', ['The Pediatrics Department is on the 2nd Floor, Room 205. It is across from the Cardiology Department.']),\n",
        "\n",
        "\n",
        "    (r'where is the gynecology department?', ['The Gynecology Department is on the 3rd Floor, Room 305. It is adjacent to the Obstetrics Department.']),\n",
        "\n",
        "\n",
        "    (r'where is the radiology department?', ['The Radiology Department is on the 3rd Floor, Room 310, near the Neurology Department.']),\n",
        "\n",
        "\n",
        "    (r'where is the blood bank?', ['The Blood Bank is located on the Ground Floor, next to the Pharmacy.']),\n",
        "\n",
        "    (r'where is the pharmacy?', ['The Pharmacy is located on the Ground Floor, near the main entrance, just beside the Blood Bank.']),\n",
        "\n",
        "\n",
        "    (r'where are the restrooms?', ['Restrooms are located on each floor. On the Ground Floor, they are near the cafeteria. On other floors, they are near the elevators.']),\n",
        "\n",
        "\n",
        "    (r'where is the cafeteria?', ['The cafeteria is located on the Ground Floor, just past the main entrance, beside the waiting area.']),\n",
        "\n",
        "\n",
        "    (r'where is the waiting area?', ['The waiting area is located on the Ground Floor, near the entrance. It is adjacent to the cafeteria and pharmacy.']),\n",
        "\n",
        "\n",
        "    (r'where is the ICU?', ['The ICU is located on the 5th Floor. It is well-signposted and accessible by elevator.']),\n",
        "\n",
        "\n",
        "    (r'where is the x-ray department?', ['The X-ray Department is located on the 3rd Floor, Room 312, right next to the Radiology Department.']),\n",
        "\n",
        "\n",
        "    (r'what services does varsh hospital offer?', ['Varsh Hospital offers a variety of services, including outpatient care, inpatient care, emergency services, diagnostic tests, surgery, rehabilitation, and more.']),\n",
        "\n",
        "\n",
        "    (r'what are the visiting hours?', ['Visiting hours at Varsh Hospital are from 10 AM to 6 PM every day. Please check with the department for specific visiting rules.']),\n",
        "\n",
        "    (r'what is the hospital contact number?', ['You can reach Varsh Hospital at +123 456 7890 for appointments or inquiries.']),\n",
        "\n",
        "\n",
        "    (r'what is the emergency contact number?', ['In case of emergency, please call our 24/7 emergency number: +123 987 6543.']),\n",
        "\n",
        "\n",
        "    (r'how do I get to varsh hospital from the train station?', ['From the train station, take a 10-minute walk towards Main Street. Turn left at the traffic light, and Varsh Hospital will be on your right after 2 blocks.']),\n",
        "\n",
        "\n",
        "    (r'how do I find room (.*)?', ['You can reach room {} by taking the elevator to the {} Floor. It will be the first room on your left.']),\n",
        "\n",
        "\n",
        "    (r'how do I get to the (.*) floor?', ['To get to the {} Floor, take the elevator from the Ground Floor. Once you reach the {} Floor, follow the signs to your destination.']),\n",
        "\n",
        "\n",
        "    (r'what are the specialties of varsh hospital?', ['Varsh Hospital specializes in Cardiology, Neurology, Orthopedics, Pediatrics, and Gynecology. We also have a well-equipped ICU and Emergency Department.']),\n",
        "\n",
        "\n",
        "    (r'does varsh hospital have a helipad?', ['Yes, Varsh Hospital has a helipad on the rooftop for emergency airlifting. Please contact the emergency department for more details.']),\n",
        "\n",
        "\n",
        "    (r'can I book a health checkup?', ['Yes, you can book a health checkup by visiting our website or calling our appointment desk at +123 456 7890.']),\n",
        "\n",
        "\n",
        "    (r'does varsh hospital provide wifi?', ['Yes, Varsh Hospital provides free WiFi in all patient rooms and public areas. Please ask the staff for the WiFi password.']),\n",
        "\n",
        "\n",
        "    (r'does varsh hospital accept medical insurance?', ['Yes, we accept various medical insurance plans. Please check with our front desk for the list of accepted providers.']),\n",
        "\n",
        "\n",
        "    (r'how do I discharge a patient?', ['To discharge a patient, please contact the nursing staff or visit the front desk for discharge forms. We will provide you with all the necessary instructions.']),\n",
        "\n",
        "    (r'what are the hospital policies?', ['Varsh Hospital follows strict protocols for patient care, safety, and privacy. Please ask the front desk for a copy of our full policy document.']),\n",
        "\n",
        "]\n",
        "\n",
        "# Create a chatbot with the given pairs and reflections (this handles simple pronoun replacements)\n",
        "chatbot = Chat(pairs, reflections)\n",
        "\n",
        "# Function to initiate chat with the bot\n",
        "def start_chat():\n",
        "    print(\"Hello! I am your hospital guide. Type 'quit' to end the conversation.\")\n",
        "    while True:\n",
        "        user_input = input(\"You: \")\n",
        "        if user_input.lower() == 'quit':\n",
        "            print(\"ChatBot: Goodbye!\")\n",
        "            break\n",
        "        response = chatbot.respond(user_input)\n",
        "        print(f\"ChatBot: {response}\")\n",
        "\n",
        "# Start chatting\n",
        "start_chat()\n"
      ],
      "metadata": {
        "colab": {
          "base_uri": "https://localhost:8080/"
        },
        "id": "GDSQRuaM4CkM",
        "outputId": "17f2974a-f00e-45e7-e820-eeb984ad3afe"
      },
      "execution_count": 2,
      "outputs": [
        {
          "output_type": "stream",
          "name": "stderr",
          "text": [
            "[nltk_data] Downloading package punkt to /root/nltk_data...\n",
            "[nltk_data]   Package punkt is already up-to-date!\n"
          ]
        },
        {
          "output_type": "stream",
          "name": "stdout",
          "text": [
            "Hello! I am your hospital guide. Type 'quit' to end the conversation.\n",
            "You: what are the visiting hours\n",
            "ChatBot: Visiting hours at Varsh Hospital are from 10 AM to 6 PM every day. Please check with the department for specific visiting rules.\n",
            "You: where is the pharmacy\n",
            "ChatBot: The Pharmacy is located on the Ground Floor, near the main entrance, just beside the Blood Bank.\n",
            "You: where is the x-ray department\n",
            "ChatBot: The X-ray Department is located on the 3rd Floor, Room 312, right next to the Radiology Department.\n",
            "You: quit\n",
            "ChatBot: Goodbye!\n"
          ]
        }
      ]
    },
    {
      "cell_type": "code",
      "execution_count": null,
      "metadata": {
        "id": "UnL5-Qoy30jU"
      },
      "outputs": [],
      "source": []
    }
  ]
}